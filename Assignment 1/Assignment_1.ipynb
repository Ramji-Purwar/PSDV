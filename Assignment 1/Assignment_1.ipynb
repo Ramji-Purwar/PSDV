{
 "cells": [
  {
   "cell_type": "code",
   "execution_count": 8,
   "metadata": {},
   "outputs": [],
   "source": [
    "import numpy as np\n",
    "import matplotlib.pyplot as plt\n",
    "from email.mime import audio\n",
    "from pydub import AudioSegment"
   ]
  },
  {
   "cell_type": "markdown",
   "metadata": {
    "id": "AnUxKd3FsdSJ"
   },
   "source": [
    "# Creating Arrays"
   ]
  },
  {
   "cell_type": "markdown",
   "metadata": {},
   "source": [
    "1. Create a 1D array with 20 random integers between 1 and 100.\n",
    "Hint: Use the `np.random.randint()` function, specifying the range and size."
   ]
  },
  {
   "cell_type": "code",
   "execution_count": 15,
   "metadata": {
    "colab": {
     "base_uri": "https://localhost:8080/"
    },
    "executionInfo": {
     "elapsed": 497,
     "status": "ok",
     "timestamp": 1736306516735,
     "user": {
      "displayName": "Ramji Purwar 24110287",
      "userId": "07319976132449217924"
     },
     "user_tz": -330
    },
    "id": "h0dMcmB26gmL",
    "outputId": "9ac832c7-715f-4870-f84e-0791f60b3533"
   },
   "outputs": [
    {
     "data": {
      "text/plain": [
       "array([ 31,  22,  63,  70,  60,  82,  31,  27,  76,  53,  42,  95,  53,\n",
       "       100,  36,   6,  70,  22,  50,  39], dtype=int32)"
      ]
     },
     "execution_count": 15,
     "metadata": {},
     "output_type": "execute_result"
    }
   ],
   "source": [
    "ar = np.random.randint(1, 101, 20)\n",
    "ar"
   ]
  },
  {
   "cell_type": "markdown",
   "metadata": {},
   "source": [
    "2. Create a 5x5 matrix where all the border elements are 1, and the inside elements are 0."
   ]
  },
  {
   "cell_type": "code",
   "execution_count": 6,
   "metadata": {
    "colab": {
     "base_uri": "https://localhost:8080/"
    },
    "executionInfo": {
     "elapsed": 22,
     "status": "ok",
     "timestamp": 1736307006045,
     "user": {
      "displayName": "Ramji Purwar 24110287",
      "userId": "07319976132449217924"
     },
     "user_tz": -330
    },
    "id": "SiZyL3sE9C6X",
    "outputId": "5e68eed3-3200-4dbb-ef7b-df0007d38b24"
   },
   "outputs": [
    {
     "data": {
      "text/plain": [
       "array([[1, 1, 1, 1, 1],\n",
       "       [1, 0, 0, 0, 1],\n",
       "       [1, 0, 0, 0, 1],\n",
       "       [1, 0, 0, 0, 1],\n",
       "       [1, 1, 1, 1, 1]], dtype=int32)"
      ]
     },
     "execution_count": 6,
     "metadata": {},
     "output_type": "execute_result"
    }
   ],
   "source": [
    "ar = np.ones((5,5), dtype= np.int32)\n",
    "ar[1:-1, 1:-1]=0\n",
    "ar"
   ]
  },
  {
   "cell_type": "markdown",
   "metadata": {},
   "source": [
    "3. Create a diagonal matrix with values `[1, 2, 3, 4]` on the diagonal."
   ]
  },
  {
   "cell_type": "code",
   "execution_count": 7,
   "metadata": {},
   "outputs": [
    {
     "data": {
      "text/plain": [
       "array([[1, 0, 0, 0],\n",
       "       [0, 2, 0, 0],\n",
       "       [0, 0, 3, 0],\n",
       "       [0, 0, 0, 4]])"
      ]
     },
     "execution_count": 7,
     "metadata": {},
     "output_type": "execute_result"
    }
   ],
   "source": [
    "ar = np.diag([1,2,3,4])\n",
    "ar"
   ]
  },
  {
   "cell_type": "markdown",
   "metadata": {},
   "source": [
    "4. Create an array of shape (3, 3) where each row contains numbers from 1 to 3.\n",
    "Hint: Use `np.tile()` to repeat arrays along rows or columns."
   ]
  },
  {
   "cell_type": "code",
   "execution_count": 8,
   "metadata": {},
   "outputs": [
    {
     "data": {
      "text/plain": [
       "array([[1, 2, 3],\n",
       "       [1, 2, 3],\n",
       "       [1, 2, 3]])"
      ]
     },
     "execution_count": 8,
     "metadata": {},
     "output_type": "execute_result"
    }
   ],
   "source": [
    "ar = np.tile([1,2,3], (3,1))\n",
    "ar"
   ]
  },
  {
   "cell_type": "markdown",
   "metadata": {},
   "source": [
    "5. Create a 1D array with alternating 0s and 1s of length 10."
   ]
  },
  {
   "cell_type": "code",
   "execution_count": 9,
   "metadata": {
    "colab": {
     "base_uri": "https://localhost:8080/"
    },
    "executionInfo": {
     "elapsed": 472,
     "status": "ok",
     "timestamp": 1736360814253,
     "user": {
      "displayName": "Ramji Purwar 24110287",
      "userId": "07319976132449217924"
     },
     "user_tz": -330
    },
    "id": "OqCCOowBKBp-",
    "outputId": "1bca45ff-2515-4258-caf0-6083f37ad2a4"
   },
   "outputs": [
    {
     "data": {
      "text/plain": [
       "array([0, 1, 0, 1, 0, 1, 0, 1, 0, 1])"
      ]
     },
     "execution_count": 9,
     "metadata": {},
     "output_type": "execute_result"
    }
   ],
   "source": [
    "ar = np.tile([0,1],5)\n",
    "ar"
   ]
  },
  {
   "cell_type": "markdown",
   "metadata": {},
   "source": [
    "6. Create a 3x3 matrix with random integers between 10 and 20, and set the datatype to `int32`."
   ]
  },
  {
   "cell_type": "code",
   "execution_count": 14,
   "metadata": {},
   "outputs": [
    {
     "data": {
      "text/plain": [
       "array([[14, 16, 20],\n",
       "       [12, 16, 11],\n",
       "       [15, 15, 19]], dtype=int32)"
      ]
     },
     "execution_count": 14,
     "metadata": {},
     "output_type": "execute_result"
    }
   ],
   "source": [
    "ar = np.random.randint(10, 21, size= (3,3), dtype= np.int32)\n",
    "ar"
   ]
  },
  {
   "cell_type": "markdown",
   "metadata": {},
   "source": [
    "# Array Attributes"
   ]
  },
  {
   "cell_type": "markdown",
   "metadata": {},
   "source": [
    "1. Create a NumPy array of shape (4, 5) filled with random integers between 1 and 10. Now use an appropriate attribute of an array and find the following:\n",
    "\n",
    "  - shape of the array\n",
    "  - size of the array\n",
    "  - number of dimensions\n",
    "  - data type"
   ]
  },
  {
   "cell_type": "code",
   "execution_count": 11,
   "metadata": {},
   "outputs": [
    {
     "name": "stdout",
     "output_type": "stream",
     "text": [
      "\n",
      "Shape of the array : (4, 5)\n",
      "Size of array : 20\n",
      "Dimension : 2\n",
      "Data type : int32\n"
     ]
    }
   ],
   "source": [
    "ar = np.random.randint(1, 11, (4, 5))\n",
    "\n",
    "print(\"\\nShape of the array :\", ar.shape)\n",
    "print(\"Size of array :\", ar.size)\n",
    "print(\"Dimension :\", ar.ndim)\n",
    "print(\"Data type :\", ar.dtype)"
   ]
  },
  {
   "cell_type": "markdown",
   "metadata": {},
   "source": [
    "2. Write a Python function that takes an array as input and returns the number of dimensions (ndim) of the array.\n",
    "Test the function with the following arrays:\n",
    "\n",
    "  - A 1D array with 5 elements.\n",
    "  - A 2D array of size (3x4).\n",
    "  - A 3D array of size (2x3x4)."
   ]
  },
  {
   "cell_type": "code",
   "execution_count": 12,
   "metadata": {},
   "outputs": [
    {
     "name": "stdout",
     "output_type": "stream",
     "text": [
      "\n",
      "Dimension of 1D array : 1\n",
      "Dimension of 1D array : 2\n",
      "Dimension of 1D array : 3\n"
     ]
    }
   ],
   "source": [
    "def getDimension(ar):\n",
    "    return ar.ndim\n",
    "\n",
    "ar_1D = np.random.randint(1, 16, 5)\n",
    "print(\"\\nDimension of 1D array :\", getDimension(ar_1D))\n",
    "\n",
    "ar_2D = np.random.randint(1, 26, size=(3,4))\n",
    "print(\"Dimension of 1D array :\", getDimension(ar_2D))\n",
    "\n",
    "ar_3D = np.random.randint(1, 51, size=(2,3,4))\n",
    "print(\"Dimension of 1D array :\", getDimension(ar_3D))"
   ]
  },
  {
   "cell_type": "markdown",
   "metadata": {},
   "source": [
    "3. Create a NumPy array with the elements between 1 to 100 and use the dtype attribute to find out the data type of the elements. Modify the program to create arrays with elements of type float and string, and observe the changes in dtype."
   ]
  },
  {
   "cell_type": "code",
   "execution_count": 13,
   "metadata": {},
   "outputs": [
    {
     "name": "stdout",
     "output_type": "stream",
     "text": [
      "\n",
      "Int array :\n",
      " [  1   2   3   4   5   6   7   8   9  10  11  12  13  14  15  16  17  18\n",
      "  19  20  21  22  23  24  25  26  27  28  29  30  31  32  33  34  35  36\n",
      "  37  38  39  40  41  42  43  44  45  46  47  48  49  50  51  52  53  54\n",
      "  55  56  57  58  59  60  61  62  63  64  65  66  67  68  69  70  71  72\n",
      "  73  74  75  76  77  78  79  80  81  82  83  84  85  86  87  88  89  90\n",
      "  91  92  93  94  95  96  97  98  99 100]\n",
      "Data type : int64 \n",
      "\n",
      "Float array :\n",
      " [  1.   2.   3.   4.   5.   6.   7.   8.   9.  10.  11.  12.  13.  14.\n",
      "  15.  16.  17.  18.  19.  20.  21.  22.  23.  24.  25.  26.  27.  28.\n",
      "  29.  30.  31.  32.  33.  34.  35.  36.  37.  38.  39.  40.  41.  42.\n",
      "  43.  44.  45.  46.  47.  48.  49.  50.  51.  52.  53.  54.  55.  56.\n",
      "  57.  58.  59.  60.  61.  62.  63.  64.  65.  66.  67.  68.  69.  70.\n",
      "  71.  72.  73.  74.  75.  76.  77.  78.  79.  80.  81.  82.  83.  84.\n",
      "  85.  86.  87.  88.  89.  90.  91.  92.  93.  94.  95.  96.  97.  98.\n",
      "  99. 100.]\n",
      "Data type : float64 \n",
      "\n",
      "String array :\n",
      " ['1' '2' '3' '4' '5' '6' '7' '8' '9' '10' '11' '12' '13' '14' '15' '16'\n",
      " '17' '18' '19' '20' '21' '22' '23' '24' '25' '26' '27' '28' '29' '30'\n",
      " '31' '32' '33' '34' '35' '36' '37' '38' '39' '40' '41' '42' '43' '44'\n",
      " '45' '46' '47' '48' '49' '50' '51' '52' '53' '54' '55' '56' '57' '58'\n",
      " '59' '60' '61' '62' '63' '64' '65' '66' '67' '68' '69' '70' '71' '72'\n",
      " '73' '74' '75' '76' '77' '78' '79' '80' '81' '82' '83' '84' '85' '86'\n",
      " '87' '88' '89' '90' '91' '92' '93' '94' '95' '96' '97' '98' '99' '100']\n",
      "Data type : <U21 \n",
      "\n"
     ]
    }
   ],
   "source": [
    "ar = np.arange(1,101)\n",
    "\n",
    "print(\"\\nInt array :\\n\", ar)\n",
    "print(\"Data type :\", ar.dtype, '\\n')\n",
    "\n",
    "float_ar = ar.astype(float)\n",
    "print(\"Float array :\\n\", float_ar)\n",
    "print(\"Data type :\", float_ar.dtype, '\\n')\n",
    "\n",
    "str_ar = ar.astype(str)\n",
    "print(\"String array :\\n\", str_ar)\n",
    "print(\"Data type :\", str_ar.dtype, '\\n')"
   ]
  },
  {
   "cell_type": "markdown",
   "metadata": {},
   "source": [
    "4. Write a Python function that:\n",
    "  - Creates a 6×3 array of integers using NumPy.\n",
    "  - Prints the shape of the array using the shape attribute.\n",
    "  - Reshapes the array to 3×6 and prints the new shape."
   ]
  },
  {
   "cell_type": "code",
   "execution_count": 14,
   "metadata": {},
   "outputs": [
    {
     "name": "stdout",
     "output_type": "stream",
     "text": [
      "\n",
      "Original array :\n",
      " [[10 23 19]\n",
      " [28  1 13]\n",
      " [17 24 25]\n",
      " [ 8 19  3]\n",
      " [ 3 18 29]\n",
      " [26 14 23]] \n",
      "\n",
      "Shape of array : (6, 3)\n",
      "\n",
      "Reshaped array :\n",
      " [[10 23 19 28  1 13]\n",
      " [17 24 25  8 19  3]\n",
      " [ 3 18 29 26 14 23]]\n"
     ]
    }
   ],
   "source": [
    "ar = np.random.randint(1, 31, (6,3))\n",
    "print(\"\\nOriginal array :\\n\", ar, '\\n')\n",
    "print(\"Shape of array :\", ar.shape)\n",
    "\n",
    "reshaped_ar= ar.reshape((3,6))\n",
    "print(\"\\nReshaped array :\\n\", reshaped_ar)"
   ]
  },
  {
   "cell_type": "markdown",
   "metadata": {},
   "source": [
    "5. Write a program to:\n",
    "  - Create an array of any size with all elements being 0 and use the appropriate attribute to print the size (in bytes) of each element in the array.\n",
    "  - Create an array of any size with elements between 1 to 10 and print the size.\n",
    "  - Create another array with floating-point numbers of any size and observe how the size changes."
   ]
  },
  {
   "cell_type": "code",
   "execution_count": 15,
   "metadata": {},
   "outputs": [
    {
     "name": "stdout",
     "output_type": "stream",
     "text": [
      "Size of each element of ar : 120 bytes\n",
      "size of ar_2: 5\n",
      "Size of each element of ar_2 : 20 bytes\n",
      "Size of each element of ar_float : 40 bytes\n"
     ]
    }
   ],
   "source": [
    "ar = np.zeros(15)\n",
    "print(\"Size of each element of ar :\", ar.nbytes, \"bytes\")\n",
    "\n",
    "ar_2 = np.random.randint(1, 11, 5)\n",
    "print(\"size of ar_2:\", ar_2.size)\n",
    "print(\"Size of each element of ar_2 :\", ar_2.nbytes, \"bytes\")\n",
    "\n",
    "ar_float = np.random.random(5)\n",
    "print(\"Size of each element of ar_float :\", ar_float.nbytes, \"bytes\")"
   ]
  },
  {
   "cell_type": "markdown",
   "metadata": {
    "id": "ItnxYBtVzYiL"
   },
   "source": [
    "# Sorting and Partioning"
   ]
  },
  {
   "cell_type": "markdown",
   "metadata": {},
   "source": [
    "1. Given an array arr, sort the array in ascending order without modifying the original array. Print both the original and sorted arrays.(use np.sort())"
   ]
  },
  {
   "cell_type": "code",
   "execution_count": 16,
   "metadata": {
    "colab": {
     "base_uri": "https://localhost:8080/"
    },
    "executionInfo": {
     "elapsed": 528,
     "status": "ok",
     "timestamp": 1736308543047,
     "user": {
      "displayName": "Ramji Purwar 24110287",
      "userId": "07319976132449217924"
     },
     "user_tz": -330
    },
    "id": "G-oqA7_dChiA",
    "outputId": "1189c670-9fa1-40bc-b3a9-a292bd08f6d9"
   },
   "outputs": [
    {
     "name": "stdout",
     "output_type": "stream",
     "text": [
      "\n",
      "Original Array : [25 25 13 16  1  7 17  7 10 10]\n",
      "Sorted array : [ 1  7  7 10 10 13 16 17 25 25]\n"
     ]
    }
   ],
   "source": [
    "ar = np.random.randint(1, 26, 10)\n",
    "print(\"\\nOriginal Array :\", ar)\n",
    "\n",
    "sorted_ar = np.sort(ar)\n",
    "print(\"Sorted array :\", sorted_ar)"
   ]
  },
  {
   "cell_type": "markdown",
   "metadata": {},
   "source": [
    "2. You have arr = np.array([50, 30, 40, 20]) and names = np.array([\"A\", \"B\", \"C\", \"D\"]).\n",
    "Sort the arr values in ascending order and rearrange the names array accordingly.(use np.argsort() to get sorted indices and reorder names)"
   ]
  },
  {
   "cell_type": "code",
   "execution_count": 17,
   "metadata": {
    "colab": {
     "base_uri": "https://localhost:8080/"
    },
    "executionInfo": {
     "elapsed": 1734,
     "status": "ok",
     "timestamp": 1736308822914,
     "user": {
      "displayName": "Ramji Purwar 24110287",
      "userId": "07319976132449217924"
     },
     "user_tz": -330
    },
    "id": "xJa8s_I5D5Yl",
    "outputId": "a765837a-7240-4ad5-8138-30ac9f5b9d37"
   },
   "outputs": [
    {
     "name": "stdout",
     "output_type": "stream",
     "text": [
      "Reorderd names : ['D' 'B' 'C' 'A']\n"
     ]
    }
   ],
   "source": [
    "ar = np.array([50, 30, 40, 20])\n",
    "names = np.array([\"A\", \"B\", \"C\", \"D\"])\n",
    "\n",
    "index = np.argsort(ar)\n",
    "names = names[index]\n",
    "\n",
    "print(\"Reorderd names :\", names)"
   ]
  },
  {
   "cell_type": "markdown",
   "metadata": {},
   "source": [
    "3. Write code to find the k smallest elements from the array arr. Print these elements in ascending order.(use np.partition())"
   ]
  },
  {
   "cell_type": "code",
   "execution_count": 89,
   "metadata": {},
   "outputs": [
    {
     "name": "stdout",
     "output_type": "stream",
     "text": [
      "Original Array : [ 4  5 12 11  1  3  2 14  7 14]\n",
      "kth smallest element in array = 5\n"
     ]
    }
   ],
   "source": [
    "k = 5\n",
    "arr = np.random.randint(1, 15, 10)\n",
    "print(\"Original Array :\", arr)\n",
    "\n",
    "partition_arr = np.partition(arr, k)\n",
    "print(\"kth smallest element in array =\", partition_arr[k-1])"
   ]
  },
  {
   "cell_type": "markdown",
   "metadata": {},
   "source": [
    "4. Partition the array arr such that all elements smaller than a particular number(user input) appear before those greater than or equal to that number. Print the partitioned array.(use np.partition() to find the pivot value's index)"
   ]
  },
  {
   "cell_type": "code",
   "execution_count": 100,
   "metadata": {},
   "outputs": [
    {
     "name": "stdout",
     "output_type": "stream",
     "text": [
      "Original Array : [10 17  2 23 15 19  1  3  8 13 22 22 19 25 12]\n",
      "Partitioned array : [ 1  2  3  8 10 12 13 15 17 19 19 22 22 23 25]\n"
     ]
    }
   ],
   "source": [
    "ar = np.random.randint(1, 30, 15)\n",
    "print(\"Original Array :\", ar)\n",
    "\n",
    "k = int(input())\n",
    "\n",
    "pivot_index = np.count_nonzero(ar<k)\n",
    "par_ar = np.partition(ar, pivot_index)\n",
    "print(\"Partitioned array :\", par_ar)"
   ]
  },
  {
   "cell_type": "markdown",
   "metadata": {},
   "source": [
    "5. Sort each row of a 2D array arr in ascending order.(use np.sort() with axis parameter)"
   ]
  },
  {
   "cell_type": "code",
   "execution_count": 18,
   "metadata": {},
   "outputs": [
    {
     "name": "stdout",
     "output_type": "stream",
     "text": [
      "\n",
      "Orignal array :\n",
      " [[ 4 31 35 27 23]\n",
      " [25 43  7  7 46]\n",
      " [22  2  9  5  8]\n",
      " [31 35 37 24  6]\n",
      " [44 16 39 12 44]]\n",
      "\n",
      "Sorted array :\n",
      " [[ 4 23 27 31 35]\n",
      " [ 7  7 25 43 46]\n",
      " [ 2  5  8  9 22]\n",
      " [ 6 24 31 35 37]\n",
      " [12 16 39 44 44]]\n"
     ]
    }
   ],
   "source": [
    "ar = np.random.randint(1, 51, (5, 5))\n",
    "print(\"\\nOrignal array :\\n\", ar)\n",
    "\n",
    "sorted_ar = np.sort(ar, axis=1)\n",
    "print(\"\\nSorted array :\\n\", sorted_ar)"
   ]
  },
  {
   "cell_type": "markdown",
   "metadata": {},
   "source": [
    "6. Print k largest elements of an array arr in descending order.(use np.partition() to find top k elements)"
   ]
  },
  {
   "cell_type": "code",
   "execution_count": 109,
   "metadata": {},
   "outputs": [
    {
     "name": "stdout",
     "output_type": "stream",
     "text": [
      "original Array : [ 3 20  7 21 22 19 19  5 21  6  8  4 23 22 20]\n",
      "k largest elements of an array arr in descending order : [23 22 22 21 21]\n"
     ]
    }
   ],
   "source": [
    "k = 5\n",
    "ar = np.random.randint(1, 25, 15)\n",
    "print(\"original Array :\", ar)\n",
    "\n",
    "partition_arr = np.partition(ar, k)\n",
    "top_k_el = partition_arr[-k:]\n",
    "print(\"k largest elements of an array arr in descending order :\", top_k_el[::-1])"
   ]
  },
  {
   "cell_type": "markdown",
   "metadata": {},
   "source": [
    "7. Given an array arr(containing possible negative values), sort the array in ascending order based on the absolute values of the elements. Print the sorted array.(use np.argsort() with a custom key for absolute values)"
   ]
  },
  {
   "cell_type": "code",
   "execution_count": 19,
   "metadata": {},
   "outputs": [
    {
     "name": "stdout",
     "output_type": "stream",
     "text": [
      "Origial array : [ 18  -2   8   5  -9  14  -5  -2   0 -19  -3  -8   3  -4  15]\n",
      "Sorted array : [  0  -2  -2  -3   3  -4  -5   5  -8   8  -9  14  15  18 -19]\n"
     ]
    }
   ],
   "source": [
    "ar = np.random.randint(-21, 21, 15)\n",
    "print(\"Origial array :\", ar)\n",
    "\n",
    "indexes = np.argsort(np.abs(ar))\n",
    "sorted_ar = ar[indexes]\n",
    "print(\"Sorted array :\", sorted_ar)"
   ]
  },
  {
   "cell_type": "markdown",
   "metadata": {},
   "source": [
    "8. Given an array arr, sort only the elements greater than k in ascending order, keeping the other elements in their original positions.(create a mask to find elements greater than k, use np.sort() to sort them then reassign the sorted values back to their original indices in the array)"
   ]
  },
  {
   "cell_type": "code",
   "execution_count": 20,
   "metadata": {},
   "outputs": [
    {
     "name": "stdout",
     "output_type": "stream",
     "text": [
      "Original array : [ 7 10 20  9  5  8 19  8  9 12]\n",
      "Reassigned array : [ 7 10 12  9  5  8 19  8  9 20]\n"
     ]
    }
   ],
   "source": [
    "ar = np.random.randint(1, 21, 10)\n",
    "print(\"Original array :\", ar)\n",
    "\n",
    "k =10 \n",
    "mask = ar > k\n",
    "sortGre_k = np.sort(ar[mask])\n",
    "\n",
    "ar[mask] = sortGre_k\n",
    "print(\"Reassigned array :\", ar)"
   ]
  },
  {
   "cell_type": "markdown",
   "metadata": {
    "id": "gPghNT4V8CFw"
   },
   "source": [
    "# Indexing and Slicing"
   ]
  },
  {
   "cell_type": "markdown",
   "metadata": {
    "id": "O9CJs-Un8X3_"
   },
   "source": [
    "1. 2D Array Indexing\n",
    "Consider the following 2D array:\n",
    "`arr_2d = np.array([[5, 10, 15], [20, 25, 30], [35, 40, 45]])`\n",
    "- Access the element at row index 1 and column index 2.\n",
    "- Extract the first row.\n",
    "- Extract the last column."
   ]
  },
  {
   "cell_type": "code",
   "execution_count": 111,
   "metadata": {},
   "outputs": [
    {
     "name": "stdout",
     "output_type": "stream",
     "text": [
      "The element at row index 1 and column index 2 = 30\n",
      "First Row : [ 5 10 15]\n",
      "Last Column : [15 30 45]\n"
     ]
    }
   ],
   "source": [
    "arr_2d = np.array([[5, 10, 15], [20, 25, 30], [35, 40, 45]])\n",
    "\n",
    "print(\"The element at row index 1 and column index 2 =\", arr_2d[1][2])\n",
    "print(\"First Row :\", arr_2d[0])\n",
    "print(\"Last Column :\", arr_2d[:, -1])"
   ]
  },
  {
   "cell_type": "markdown",
   "metadata": {
    "id": "aXGnlXAo8ai8"
   },
   "source": [
    "2. Boolean Indexing\n",
    "Given an array `arr = np.array([2, 5, 8, 11, 14, 17, 20])`, use boolean indexing to:\n",
    "- Extract all values greater than 10.\n",
    "- Replace all values greater than 15 with -1."
   ]
  },
  {
   "cell_type": "code",
   "execution_count": 22,
   "metadata": {},
   "outputs": [
    {
     "name": "stdout",
     "output_type": "stream",
     "text": [
      "Original array : [ 2  5  8 11 14 17 20]\n",
      "Values greater than 10 : [11 14 17 20]\n",
      "Final array : [ 2  5  8 11 14 -1 -1]\n"
     ]
    }
   ],
   "source": [
    "ar = np.array([2, 5, 8, 11, 14, 17, 20])\n",
    "print(\"Original array :\", ar)\n",
    "\n",
    "gr_10 = ar>10\n",
    "print(\"Values greater than 10 :\",ar[gr_10])\n",
    "\n",
    "gr_15 = ar>15\n",
    "ar[gr_15] = -1\n",
    "print(\"Final array :\", ar)"
   ]
  },
  {
   "cell_type": "markdown",
   "metadata": {
    "id": "cSMQOL_78dGJ"
   },
   "source": [
    "3. Fancy Indexing\n",
    "Using the 2D array `arr_2d = np.array([[5, 10, 15], [20, 25, 30], [35, 40, 45]])`, write code to:\n",
    "\n",
    "- Select the elements at positions (0,2), (1,1), and (2,0).\n",
    "- Use fancy indexing to create a submatrix with rows 0 and 2, and columns 1 and 2.\n",
    "\n",
    "- **Hint:**\n",
    " - For 1st part, use arrays of row and column indices\n",
    " - For 2nd part, you can create a submatrix using fancy indexing by using np.newaxis to match the dimensions\n"
   ]
  },
  {
   "cell_type": "code",
   "execution_count": 110,
   "metadata": {},
   "outputs": [
    {
     "name": "stdout",
     "output_type": "stream",
     "text": [
      "Elements at positions (0,2), (1,1), and (2,0) : [15 25 35]\n",
      "Submatrix with rows 0 and 2, and columns 1 and 2 :\n",
      " [[10 15]\n",
      " [40 45]]\n"
     ]
    }
   ],
   "source": [
    "ar = np.array([[5, 10, 15], [20, 25, 30], [35, 40, 45]])\n",
    "\n",
    "print(\"Elements at positions (0,2), (1,1), and (2,0) :\", arr_2d[[0,1,2],[2,1,0]])\n",
    "print(\"Submatrix with rows 0 and 2, and columns 1 and 2 :\\n\", arr_2d[[0,2]][:,[1,2]])"
   ]
  },
  {
   "cell_type": "markdown",
   "metadata": {
    "id": "neMikU6N8fdJ"
   },
   "source": [
    "4. Slicing 1D array\n",
    "Given the array `arr = np.array([1, 3, 5, 7, 9, 11, 13, 15])`, write code to:\n",
    "\n",
    "- Extract the first 4 elements.\n",
    "- Extract every second element from the entire array.\n",
    "- Extract elements from index 2 to the end, stepping by 2."
   ]
  },
  {
   "cell_type": "code",
   "execution_count": 23,
   "metadata": {},
   "outputs": [
    {
     "name": "stdout",
     "output_type": "stream",
     "text": [
      "First 4 elements : [1 3 5 7]\n",
      "Every 2nd element : [ 1  5  9 13]\n",
      "Elements from 2nd index stepping by 2 : [ 5  9 13]\n"
     ]
    }
   ],
   "source": [
    "ar = np.array([1, 3, 5, 7, 9, 11, 13, 15])\n",
    "\n",
    "print(\"First 4 elements :\", ar[:4])\n",
    "print(\"Every 2nd element :\", ar[::2])\n",
    "print(\"Elements from 2nd index stepping by 2 :\", ar[2::2])"
   ]
  },
  {
   "cell_type": "markdown",
   "metadata": {
    "id": "QnTy4Zj98h4I"
   },
   "source": [
    "5. Slicing a 2D Array\n",
    "Given the following 2D array:\n",
    "`arr_2d = np.array([[10, 20, 30, 40], [50, 60, 70, 80], [90, 100, 110, 120]])`\n",
    "- Slice and print the last two columns of 1st row.\n",
    "- Slice and print the last row, reversed."
   ]
  },
  {
   "cell_type": "code",
   "execution_count": 24,
   "metadata": {},
   "outputs": [
    {
     "name": "stdout",
     "output_type": "stream",
     "text": [
      "Last 2 elements of 1st Row : [30 40]\n",
      "Last row reversed : [120 110 100  90]\n"
     ]
    }
   ],
   "source": [
    "ar = np.array([[10, 20, 30, 40], [50, 60, 70, 80], [90, 100, 110, 120]])\n",
    "\n",
    "print(\"Last 2 elements of 1st Row :\", ar[0, -2:])\n",
    "print(\"Last row reversed :\", ar[-1, ::-1])"
   ]
  },
  {
   "cell_type": "markdown",
   "metadata": {
    "id": "DWgodK9V8kVv"
   },
   "source": [
    "6. Handling Out-of-Range Indices in Slicing vs. Indexing\n",
    "Given the array:\n",
    "`arr = np.array([10, 20, 30, 40, 50])`\n",
    "\n",
    "\n",
    "- What will be the output of the following slicing operations? Explain why they work, even though some indices are out of range.\n",
    " - print(arr[2:10])  \n",
    " - print(arr[-10:3])    \n",
    "\n",
    "- Compare the behavior of slicing to accessing a single element with an out-of-range index (e.g., arr[10]). Why does slicing not raise an error in these cases, but indexing does?"
   ]
  },
  {
   "cell_type": "code",
   "execution_count": 25,
   "metadata": {},
   "outputs": [
    {
     "name": "stdout",
     "output_type": "stream",
     "text": [
      "[30 40 50]\n",
      "[10 20 30]\n"
     ]
    }
   ],
   "source": [
    "ar = np.array([10, 20, 30, 40, 50])\n",
    "\n",
    "print(ar[2:10])\n",
    "print(ar[-10:3])"
   ]
  },
  {
   "cell_type": "markdown",
   "metadata": {},
   "source": [
    "<font size=\"3\">Explanation:</font>\n",
    "\n",
    "<font size=\"2\">The above code still works but slicing in python array is very flexible. If an index is out of bound of the array, it interprets it either as index 0 or last index according to the case. Whereas when we try to do indexing of arrat with some index which is out of bound it throws an error as as it does't exist.</font>"
   ]
  },
  {
   "cell_type": "markdown",
   "metadata": {
    "id": "xDOOiJe7r_Vx"
   },
   "source": [
    "7.  Work with an Audio File\n",
    "\n",
    "Download the audio file from the following link: Simple Logo - Pixabay. Load the audio file using pydub and complete the following tasks:\n",
    "\n",
    "- Extract the first second of the audio and plot its waveform.\n",
    "   - Hint: Use the frame rate to calculate how many samples are in 1 second, and use slicing to extract this part.\n",
    "\n",
    "-   Extract the last second of the audio and plot its waveform.\n",
    "  \n",
    "\n",
    "-  Combine the samples from the first second and the last second into a new array and plot the combined waveform.\n",
    " - Hint: Use NumPy’s np.concatenate() function to merge the two slices."
   ]
  },
  {
   "cell_type": "code",
   "execution_count": 13,
   "metadata": {},
   "outputs": [
    {
     "data": {
      "image/png": "[encoded data removed]",
      "text/plain": [
       "<Figure size 1200x400 with 3 Axes>"
      ]
     },
     "metadata": {},
     "output_type": "display_data"
    }
   ],
   "source": [
    "audio = AudioSegment.from_file(\"simple-logo.wav\")\n",
    "\n",
    "first_second = audio[:1000] \n",
    "last_second = audio[-1000:]\n",
    "\n",
    "first_second_samples = np.array(first_second.get_array_of_samples())\n",
    "last_second_samples = np.array(last_second.get_array_of_samples())\n",
    "\n",
    "plt.figure(figsize=(12, 4))\n",
    "plt.subplot(1, 3, 1)\n",
    "plt.plot(first_second_samples)\n",
    "plt.title(\"First Second Waveform\")\n",
    "\n",
    "plt.subplot(1, 3, 2)\n",
    "plt.plot(last_second_samples)\n",
    "plt.title(\"Last Second Waveform\")\n",
    "\n",
    "combined_samples = np.concatenate((first_second_samples, last_second_samples))\n",
    "\n",
    "plt.subplot(1, 3, 3)\n",
    "plt.plot(combined_samples)\n",
    "plt.title(\"Combined Waveform\")\n",
    "\n",
    "plt.tight_layout()\n",
    "plt.show()\n"
   ]
  },
  {
   "cell_type": "markdown",
   "metadata": {
    "id": "bRFENqbOGX1X"
   },
   "source": [
    "# Reshaping in NumPy"
   ]
  },
  {
   "cell_type": "markdown",
   "metadata": {},
   "source": [
    "1. Create a 2D array of shape (3, 5). Flatten it into a 1D array and then reshape it back into a (5, 3) array."
   ]
  },
  {
   "cell_type": "code",
   "execution_count": 26,
   "metadata": {},
   "outputs": [
    {
     "name": "stdout",
     "output_type": "stream",
     "text": [
      "\n",
      "Original array :\n",
      " [[ 7 10 17 19  2]\n",
      " [ 4 26 20 26 20]\n",
      " [15 28 20 21  9]]\n",
      "\n",
      "Flatten array : [ 7 10 17 19  2  4 26 20 26 20 15 28 20 21  9]\n",
      "\n",
      "Reshaped array :\n",
      " [[ 7 10 17]\n",
      " [19  2  4]\n",
      " [26 20 26]\n",
      " [20 15 28]\n",
      " [20 21  9]]\n"
     ]
    }
   ],
   "source": [
    "ar_3_5 = np.random.randint(1, 31, (3,5))\n",
    "print(\"\\nOriginal array :\\n\", ar_3_5)\n",
    "\n",
    "flatten_ar = ar_3_5.flatten()\n",
    "print(\"\\nFlatten array :\", flatten_ar)\n",
    "\n",
    "ar_5_3 = flatten_ar.reshape((5,3))\n",
    "print(\"\\nReshaped array :\\n\", ar_5_3)"
   ]
  },
  {
   "cell_type": "markdown",
   "metadata": {},
   "source": [
    "2. Create a 1D array ```arr = np.array([1, 2, 3, 4, 5])```.\n",
    "Reshape arr into (5,1), then convert to (5,) and then convert it into (1,5)."
   ]
  },
  {
   "cell_type": "code",
   "execution_count": 27,
   "metadata": {},
   "outputs": [
    {
     "name": "stdout",
     "output_type": "stream",
     "text": [
      "\n",
      "Reshape (5,1) :\n",
      " [[1]\n",
      " [2]\n",
      " [3]\n",
      " [4]\n",
      " [5]]\n",
      "\n",
      "Reshape (5,) : [1 2 3 4 5]\n",
      "Reshape (1,5) : [[1 2 3 4 5]]\n"
     ]
    }
   ],
   "source": [
    "ar = np.array([1, 2, 3, 4, 5])\n",
    "\n",
    "ar_5_1 = ar.reshape((5,1))\n",
    "print(\"\\nReshape (5,1) :\\n\", ar_5_1)\n",
    "\n",
    "ar_5 = ar_5_1.reshape((5,))\n",
    "print(\"\\nReshape (5,) :\", ar_5)\n",
    "\n",
    "ar_1_5 = ar_5.reshape((1,5))\n",
    "print(\"Reshape (1,5) :\", ar_1_5)"
   ]
  },
  {
   "cell_type": "markdown",
   "metadata": {},
   "source": [
    "3. Create a 1D NumPy array with values ranging from 1 to 100. Reshape it into a (10, 10) matrix. Apply '.ravel()' and '.flatten()' on the matrix and modify the original matrix. Compare the outputs of both methods and explain the difference in memory sharing."
   ]
  },
  {
   "cell_type": "code",
   "execution_count": 28,
   "metadata": {},
   "outputs": [
    {
     "name": "stdout",
     "output_type": "stream",
     "text": [
      "\n",
      "Reshaped array :\n",
      " [[  1   2   3   4   5   6   7   8   9  10]\n",
      " [ 11  12  13  14  15  16  17  18  19  20]\n",
      " [ 21  22  23  24  25  26  27  28  29  30]\n",
      " [ 31  32  33  34  35  36  37  38  39  40]\n",
      " [ 41  42  43  44  45  46  47  48  49  50]\n",
      " [ 51  52  53  54  55  56  57  58  59  60]\n",
      " [ 61  62  63  64  65  66  67  68  69  70]\n",
      " [ 71  72  73  74  75  76  77  78  79  80]\n",
      " [ 81  82  83  84  85  86  87  88  89  90]\n",
      " [ 91  92  93  94  95  96  97  98  99 100]]\n",
      "\n",
      "Raveled array :\n",
      " [  1   2   3   4   5   6   7   8   9  10  11  12  13  14  15  16  17  18\n",
      "  19  20  21  22  23  24  25  26  27  28  29  30  31  32  33  34  35  36\n",
      "  37  38  39  40  41  42  43  44  45  46  47  48  49  50  51  52  53  54\n",
      "  55  56  57  58  59  60  61  62  63  64  65  66  67  68  69  70  71  72\n",
      "  73  74  75  76  77  78  79  80  81  82  83  84  85  86  87  88  89  90\n",
      "  91  92  93  94  95  96  97  98  99 100]\n",
      "\n",
      "Flattened array :\n",
      " [  1   2   3   4   5   6   7   8   9  10  11  12  13  14  15  16  17  18\n",
      "  19  20  21  22  23  24  25  26  27  28  29  30  31  32  33  34  35  36\n",
      "  37  38  39  40  41  42  43  44  45  46  47  48  49  50  51  52  53  54\n",
      "  55  56  57  58  59  60  61  62  63  64  65  66  67  68  69  70  71  72\n",
      "  73  74  75  76  77  78  79  80  81  82  83  84  85  86  87  88  89  90\n",
      "  91  92  93  94  95  96  97  98  99 100]\n"
     ]
    }
   ],
   "source": [
    "ar = np.arange(1, 101)\n",
    "\n",
    "ar_10_10 = ar.reshape((10,10))\n",
    "print(\"\\nReshaped array :\\n\", ar_10_10)\n",
    "\n",
    "raveled_ar = ar_10_10.ravel()\n",
    "print(\"\\nRaveled array :\\n\", raveled_ar)\n",
    "\n",
    "flatten_ar = ar_10_10.flatten()\n",
    "print(\"\\nFlattened array :\\n\", flatten_ar)"
   ]
  },
  {
   "cell_type": "markdown",
   "metadata": {},
   "source": [
    "<font size=\"3\">Difference</font>\n",
    "\n",
    "<font size=\"3\">.ravel():   </font>\n",
    "<font size=\"2\">It shows the view of original array i.e. passed by refrence. So if there is a change made in original array that will be viible in raveled array. Uses less memory.</font>\n",
    "\n",
    "<font size=\"3\">.flatten():   </font>\n",
    "<font size=\"2\">It makes copy of origial array to perform the task. Therefore if any modification is done in original array that will not affect the flattened array. Uses more memory.</font> "
   ]
  },
  {
   "cell_type": "markdown",
   "metadata": {},
   "source": [
    "4. Generate a 5x5 NumPy matrix representing pixel intensities from an image. Use slicing to extract the central 3x3 section of the matrix and flatten it. How does reshaping impact the spatial relationships of the pixels?"
   ]
  },
  {
   "cell_type": "code",
   "execution_count": 29,
   "metadata": {},
   "outputs": [
    {
     "name": "stdout",
     "output_type": "stream",
     "text": [
      "\n",
      "Flattened cutout image :\n",
      " [136 103 210 140 182  19 129 217   8   3 245 160 116  79  40  13 164  21\n",
      " 117 117 188 156  70 200 220 191  58]\n"
     ]
    }
   ],
   "source": [
    "pixel = np.random.randint(0, 256, (5,5,3))\n",
    "cutout = pixel[:3, :3]\n",
    "flatten_pixel = cutout.flatten()\n",
    "print(\"\\nFlattened cutout image :\\n\", flatten_pixel)"
   ]
  },
  {
   "cell_type": "markdown",
   "metadata": {},
   "source": [
    "<font size=\"3\">How does reshaping impact the spatial relationships of the pixels?</font>\n",
    "\n",
    "<font size=\"2\">When we flatten an image we lose the information of spartial arrangement of pixel we have in 3D array of pixels. This can affect some operations (eg. image filtering) in a single step which can be done in 3D pixel form.</font>"
   ]
  },
  {
   "cell_type": "markdown",
   "metadata": {},
   "source": [
    "5. Create a 3-channel RGB image as a NumPy array of shape (3, 4, 4) with random integer values between 0 and 255. Flatten the image using '.reshape()' and reshape it back to its original shape. Explain the order of pixel data stored and how reshaping affects the channel structure."
   ]
  },
  {
   "cell_type": "code",
   "execution_count": 30,
   "metadata": {},
   "outputs": [],
   "source": [
    "pixel = np.random.randint(0, 256, (3,4,4))\n",
    "flatten_pixel = pixel.flatten()\n",
    "reshaped_pixel = flatten_pixel.reshape((3,4,4))"
   ]
  },
  {
   "cell_type": "markdown",
   "metadata": {},
   "source": [
    "<font size=\"3\">Explain the order of pixel data stored and how reshaping affects the channel structure?</font>\n",
    "\n",
    "<font size=\"2\">The original pixel array contais information of RGB colour in form of 3 2D arrays. Thus when we faltten the array the first 16 value represent value of R, next 16 value for G and rest for B. It's spatail context is lost. When we reshape it, the same array is formed. Bue there is catch in it, if we alter any value in flatten image, it can result in change in value of different colous, which will affect visual representation.</font>"
   ]
  },
  {
   "cell_type": "markdown",
   "metadata": {
    "id": "6N9gUypIpV_H"
   },
   "source": [
    "# Universal Functions"
   ]
  },
  {
   "cell_type": "markdown",
   "metadata": {},
   "source": [
    "1. Given an array x = [1, 4, 9, 16, 25], compute the square root of each element in the array and print the result."
   ]
  },
  {
   "cell_type": "code",
   "execution_count": 31,
   "metadata": {},
   "outputs": [
    {
     "name": "stdout",
     "output_type": "stream",
     "text": [
      "Square Root Array : [1. 2. 3. 4. 5.]\n"
     ]
    }
   ],
   "source": [
    "x = np.array([1,4,9,16,25])\n",
    "sqroot_x = np.sqrt(x)\n",
    "print(\"Square Root Array :\", sqroot_x)"
   ]
  },
  {
   "cell_type": "markdown",
   "metadata": {},
   "source": [
    "2. Create an array angles =[0, $\\frac{\\pi}{2}$, $\\pi$, $\\frac{3\\pi}{2}$]\n",
    ", calculate the sine of each angle and print the result.\n"
   ]
  },
  {
   "cell_type": "code",
   "execution_count": 32,
   "metadata": {},
   "outputs": [
    {
     "name": "stdout",
     "output_type": "stream",
     "text": [
      "Sin of angles : [ 0.0000000e+00  1.0000000e+00  1.2246468e-16 -1.0000000e+00]\n"
     ]
    }
   ],
   "source": [
    "angles = np.array([0, np.pi/2, np.pi, np.pi*3/2])\n",
    "sine_values = np.sin(angles)\n",
    "print(\"Sin of angles :\", sine_values)"
   ]
  },
  {
   "cell_type": "markdown",
   "metadata": {},
   "source": [
    "3. Given two arrays a =[True, False, True] and b = [False, False, True], perform an element-wise logical AND operation and print the result."
   ]
  },
  {
   "cell_type": "code",
   "execution_count": 33,
   "metadata": {},
   "outputs": [
    {
     "name": "stdout",
     "output_type": "stream",
     "text": [
      "a & b = [False False False]\n"
     ]
    }
   ],
   "source": [
    "a = np.array([True, False, True])\n",
    "b = np.array([False, False, False])\n",
    "\n",
    "a_AND_b = np.logical_and(a, b)\n",
    "print(\"a & b =\", a_AND_b)"
   ]
  },
  {
   "cell_type": "markdown",
   "metadata": {},
   "source": [
    "4. Create two arrays x = [1, 2, 3, 4] and y = [2, 2, 3, 5], perform an element-wise comparison (x < y) and print the result."
   ]
  },
  {
   "cell_type": "code",
   "execution_count": 34,
   "metadata": {},
   "outputs": [
    {
     "name": "stdout",
     "output_type": "stream",
     "text": [
      "x < y = [ True False False  True]\n"
     ]
    }
   ],
   "source": [
    "x = np.array([1, 2, 3, 4])\n",
    "y = np.array([2, 2, 3, 5])\n",
    "\n",
    "x_less_than_y= x < y\n",
    "print(\"x < y =\", x_less_than_y)"
   ]
  },
  {
   "cell_type": "markdown",
   "metadata": {},
   "source": [
    "5. Create an array x =[-2, -1, 0, 1, 2, 3, 4], compute the following element-wise operation:\n",
    "\n",
    "* If an element is negative, square it.\n",
    "* If an element is non-negative, compute its exponential.\n",
    "Print the resulting array."
   ]
  },
  {
   "cell_type": "code",
   "execution_count": 35,
   "metadata": {},
   "outputs": [
    {
     "name": "stdout",
     "output_type": "stream",
     "text": [
      "Resulting array : [ 4.          2.71828183  1.          2.71828183  7.3890561  20.08553692\n",
      " 54.59815003]\n"
     ]
    }
   ],
   "source": [
    "x = np.array([-2, 1, 0, 1, 2, 3, 4])\n",
    "result = np.where(x < 0, x**2, np.exp(x))\n",
    "print(\"Resulting array :\", result)"
   ]
  },
  {
   "cell_type": "markdown",
   "metadata": {
    "id": "gpcuUfrjZiBa"
   },
   "source": [
    "# Aggregations"
   ]
  },
  {
   "cell_type": "markdown",
   "metadata": {},
   "source": [
    "1. Generate a random array of size 10.\n",
    " calculate the following:\n",
    "- Print the array\n",
    "- The sum of all elements.\n",
    "- The mean of the array.\n",
    "- The standard deviation.\n",
    "- Find 5\\*Minimum -3\\*Maximum"
   ]
  },
  {
   "cell_type": "code",
   "execution_count": 36,
   "metadata": {},
   "outputs": [
    {
     "name": "stdout",
     "output_type": "stream",
     "text": [
      "Data: [ 2  7  3  2 20  4  2  5  5  2]\n",
      "Mean : 5.2\n",
      "Standard Deviation : 5.192301994298869\n",
      "5*Minimum - 3*Maximum : -50\n"
     ]
    }
   ],
   "source": [
    "data= np.random.randint(1, 26, size = 10)\n",
    "print(\"Data:\", data)\n",
    "\n",
    "avg = np.mean(data)\n",
    "std = np.std(data)\n",
    "max = np.max(data)\n",
    "min = np.min(data)\n",
    "\n",
    "print(\"Mean :\", avg)\n",
    "print(\"Standard Deviation :\", std)\n",
    "print(\"5*Minimum - 3*Maximum :\", 5 * min - 3 * max)"
   ]
  },
  {
   "cell_type": "markdown",
   "metadata": {},
   "source": [
    "2. Generate a 4x5 matrix with random integers between 1 and 50.\n",
    "- Print the matrix.\n",
    "- Compute the mean of all elements in the matrix.\n",
    "- Compute the sum of each row in the matrix."
   ]
  },
  {
   "cell_type": "code",
   "execution_count": 37,
   "metadata": {},
   "outputs": [
    {
     "name": "stdout",
     "output_type": "stream",
     "text": [
      "Matrix :\n",
      " [[32 30 20 48  2]\n",
      " [42  2 19  9  4]\n",
      " [32 32 14 10 17]\n",
      " [25  9 10 48 50]]\n",
      "\n",
      "Mean of matrix : 22.75\n",
      "Sum of each row : [132  76 105 142]\n"
     ]
    }
   ],
   "source": [
    "matrix = np.random.randint(1, 51, size = (4,5))\n",
    "print(\"Matrix :\\n\", matrix)\n",
    "\n",
    "avg = np.mean(matrix)\n",
    "sum_of_each_row = np.sum(matrix, axis = 1)\n",
    "\n",
    "print(\"\\nMean of matrix :\", avg)\n",
    "print(\"Sum of each row :\", sum_of_each_row)"
   ]
  },
  {
   "cell_type": "markdown",
   "metadata": {},
   "source": [
    "3. Generate a random 3x3 matrix with random integers between 1 to 10\n",
    "- Find the minimum value in each column and store it in a separate list min.\n",
    "- Find the maximum value in each row and store it in a separate list max.\n",
    "- Find the value of minimum of list max - maximum of list min."
   ]
  },
  {
   "cell_type": "code",
   "execution_count": 38,
   "metadata": {},
   "outputs": [
    {
     "name": "stdout",
     "output_type": "stream",
     "text": [
      "matrix :\n",
      " [[ 4  9  4]\n",
      " [ 7  5  7]\n",
      " [ 7 10  7]]\n",
      "\n",
      "Minimum of list max - Maximum of list min = 2\n"
     ]
    }
   ],
   "source": [
    "matrix = np.random.randint(1, 11, size = (3,3))\n",
    "print(\"matrix :\\n\", matrix)\n",
    "\n",
    "min = np.min(matrix, axis = 0)\n",
    "max = np.max(matrix, axis = 1)\n",
    "\n",
    "M = np.min(max)                 # M = min of list max\n",
    "m = np.max(min)                 # m = max of list min\n",
    "\n",
    "print(\"\\nMinimum of list max - Maximum of list min =\", M-m)"
   ]
  },
  {
   "cell_type": "markdown",
   "metadata": {},
   "source": [
    "4. Given the array : data = np.array([15, 25, 35, 45, 55, 65]):\n",
    "- Find the minimum value.\n",
    "- Subtract this minimum value from all elements of the array and then calculate the mean of the resulting array."
   ]
  },
  {
   "cell_type": "code",
   "execution_count": 39,
   "metadata": {},
   "outputs": [
    {
     "name": "stdout",
     "output_type": "stream",
     "text": [
      "Minimun value = 15\n",
      "Mean after subtracting minimum value = 25.0\n"
     ]
    }
   ],
   "source": [
    "data = np.array([15, 25, 35, 45, 55, 65])\n",
    "\n",
    "minimun = np.min(data)\n",
    "print(\"Minimun value =\", minimun)\n",
    "\n",
    "avg = np.mean(data - minimun)\n",
    "print(\"Mean after subtracting minimum value =\", avg)"
   ]
  },
  {
   "cell_type": "markdown",
   "metadata": {},
   "source": [
    "5. Given the array : arr = np.array([3, 5, 7, 9, 11]):\n",
    "- Compute the cumulative sum of the elements.\n",
    "- Compute the cumulative product of the elements."
   ]
  },
  {
   "cell_type": "code",
   "execution_count": 40,
   "metadata": {},
   "outputs": [
    {
     "name": "stdout",
     "output_type": "stream",
     "text": [
      "Cummulative Sum = [ 3  8 15 24 35]\n",
      "Cummulative Product = [    3    15   105   945 10395]\n"
     ]
    }
   ],
   "source": [
    "arr = np.array([3, 5, 7, 9, 11])\n",
    "\n",
    "cumulative_sum = np.cumsum(arr)\n",
    "cumulative_pro = np.cumprod(arr)\n",
    "\n",
    "print(\"Cummulative Sum =\", cumulative_sum)\n",
    "print(\"Cummulative Product =\", cumulative_pro)"
   ]
  },
  {
   "cell_type": "markdown",
   "metadata": {},
   "source": [
    "6. Imagine you have a dataset representing the scores of 4 students in 3 subjects:\n",
    "`scores = np.array([[85, 92, 78], [88, 76, 95], [91, 89, 82], [75, 85, 88]])`\n",
    "- Compute the average score for each student.\n",
    "- Compute the highest score in each subject.\n",
    "- Determine the overall average score for all students across all subjects."
   ]
  },
  {
   "cell_type": "code",
   "execution_count": 41,
   "metadata": {},
   "outputs": [
    {
     "name": "stdout",
     "output_type": "stream",
     "text": [
      "Average score for each student : [85.         86.33333333 87.33333333 82.66666667]\n",
      "Highest score in each subject : [91 92 95]\n",
      "overall average score for all students across all subjects = 85.33333333333333\n"
     ]
    }
   ],
   "source": [
    "scores = np.array([[85, 92, 78], [88, 76, 95], [91, 89, 82], [75, 85, 88]])\n",
    "\n",
    "avg_per_stu = np.mean(scores, axis = 1)\n",
    "print(\"Average score for each student :\", avg_per_stu)\n",
    "\n",
    "high_per_sub = np.max(scores, axis = 0)\n",
    "print(\"Highest score in each subject :\", high_per_sub)\n",
    "\n",
    "overall_avg = np.mean(scores)\n",
    "print(\"overall average score for all students across all subjects =\", overall_avg)"
   ]
  },
  {
   "cell_type": "markdown",
   "metadata": {},
   "source": [
    "# Broadcasting in NumPy"
   ]
  },
  {
   "cell_type": "markdown",
   "metadata": {},
   "source": [
    "1. Given two arrays:\n",
    "\n",
    "A = np.array([[1, 2, 3], [4, 5, 6], [7, 8, 9]]) (shape: (3, 3))\n",
    "B = np.array([10, 20, 30]) (shape: (3,))\n",
    "Perform elementwise addition of A and B using broadcasting and print the result.\n",
    "\n",
    "What is the resulting shape?"
   ]
  },
  {
   "cell_type": "code",
   "execution_count": 42,
   "metadata": {},
   "outputs": [
    {
     "name": "stdout",
     "output_type": "stream",
     "text": [
      "Elementwise addition of A and B :\n",
      " [[11 22 33]\n",
      " [14 25 36]\n",
      " [17 28 39]]\n",
      "Shape of resulting array = (3, 3)\n"
     ]
    }
   ],
   "source": [
    "A = np.array([[1, 2, 3], [4, 5, 6], [7, 8, 9]])\n",
    "B = np.array([10, 20, 30])\n",
    "\n",
    "result = A + B\n",
    "print(\"Elementwise addition of A and B :\\n\", result)\n",
    "print(\"Shape of resulting array =\", result.shape)"
   ]
  },
  {
   "cell_type": "markdown",
   "metadata": {},
   "source": [
    "2. Write a function check_broadcasting(shape1, shape2) that:\n",
    "Accepts two shapes as input and checks if they are broadcast-compatible.\n",
    "Use the function to test the following shape pairs:\n",
    "\n",
    "        (3, 4) and (4,)\n",
    "\n",
    "        (2, 1, 5) and (3, 5)\n",
    "\n",
    "        (2, 3) and (2,)\n",
    "\n",
    "For each case:\n",
    "* State whether broadcasting is possible.\n",
    "* If possible, state the resulting shape of the operation"
   ]
  },
  {
   "cell_type": "code",
   "execution_count": 8,
   "metadata": {},
   "outputs": [
    {
     "name": "stdout",
     "output_type": "stream",
     "text": [
      "Shape of broadcated array = (3, 4)\n",
      "Shape of broadcated array = (2, 3, 5)\n",
      "Broadcsting NOT POSSIBLE\n"
     ]
    }
   ],
   "source": [
    "def check_broadcasting(shape1, shape2):\n",
    "    A = np.zeros(shape1)\n",
    "    B = np.zeros(shape2)\n",
    "    try:\n",
    "        result = A+B\n",
    "        print(\"Shape of broadcated array =\", result.shape)\n",
    "        return\n",
    "    except:\n",
    "        print(\"Broadcsting NOT POSSIBLE\")\n",
    "        return \n",
    "    \n",
    "# testcase_1\n",
    "shape1 = (3, 4)\n",
    "shape2 = (4,)\n",
    "check_broadcasting(shape1, shape2)\n",
    "\n",
    "# testcase_2\n",
    "shape1 = (2, 1, 5)\n",
    "shape2 = (3, 5)\n",
    "check_broadcasting(shape1, shape2)\n",
    "\n",
    "# testcase_3\n",
    "shape1 = (2, 3)\n",
    "shape2 = (2,)\n",
    "check_broadcasting(shape1, shape2)"
   ]
  },
  {
   "cell_type": "markdown",
   "metadata": {},
   "source": [
    "3. Create a 2D array A of shape (3, 5) with random integers between 1 and 10.\n",
    "Create a 1D array B of shape (5,) with random integers between 1 and 5.\n",
    "Use broadcasting to subtract B from each row of A and print the result."
   ]
  },
  {
   "cell_type": "code",
   "execution_count": 223,
   "metadata": {},
   "outputs": [
    {
     "name": "stdout",
     "output_type": "stream",
     "text": [
      "A :\n",
      " [[ 9  7  5  1  5]\n",
      " [ 2  2  7  1  9]\n",
      " [10  5  3  6  6]]\n",
      "\n",
      "B : [4 3 2 4 2]\n",
      "\n",
      "Resulting array :\n",
      " [[ 5  4  3 -3  3]\n",
      " [-2 -1  5 -3  7]\n",
      " [ 6  2  1  2  4]]\n"
     ]
    }
   ],
   "source": [
    "A = np.random.randint(1, 11, size = (3,5))\n",
    "print('A :\\n', A)\n",
    "\n",
    "B = np.random.randint(1, 6, size = (5,))\n",
    "print('\\nB :', B)\n",
    "\n",
    "result = A-B\n",
    "print(\"\\nResulting array :\\n\", result)"
   ]
  },
  {
   "cell_type": "markdown",
   "metadata": {},
   "source": [
    "4.  Create a 3D array A with shape (2, 4, 3) filled with random integers between 0 and 10.\n",
    "\n",
    "* Create an array B of shape (4, 3) containing a constant value of 5.\n",
    "* Use broadcasting to add B to each 2D array slice of A.\n",
    "* Print the result"
   ]
  },
  {
   "cell_type": "code",
   "execution_count": 237,
   "metadata": {},
   "outputs": [
    {
     "name": "stdout",
     "output_type": "stream",
     "text": [
      "A :\n",
      " [[[ 7 10  8]\n",
      "  [ 9  4  7]\n",
      "  [ 6  9  2]\n",
      "  [ 9  1  7]]\n",
      "\n",
      " [[ 4  5  6]\n",
      "  [ 7  7  3]\n",
      "  [ 7  8  0]\n",
      "  [ 5 10  9]]]\n",
      "\n",
      "B :\n",
      " [[5 5 5]\n",
      " [5 5 5]\n",
      " [5 5 5]\n",
      " [5 5 5]]\n",
      "\n",
      "Broadcated array :\n",
      " [[[12 15 13]\n",
      "  [14  9 12]\n",
      "  [11 14  7]\n",
      "  [14  6 12]]\n",
      "\n",
      " [[ 9 10 11]\n",
      "  [12 12  8]\n",
      "  [12 13  5]\n",
      "  [10 15 14]]]\n"
     ]
    }
   ],
   "source": [
    "A = np.random.randint(0, 11, (2, 4, 3))\n",
    "B = np.full((4, 3), 5)\n",
    "print('A :\\n', A)\n",
    "print('\\nB :\\n', B)\n",
    "\n",
    "result = A+B\n",
    "print(\"\\nBroadcated array :\\n\", result)"
   ]
  },
  {
   "cell_type": "markdown",
   "metadata": {},
   "source": [
    "5. You are given a grayscale image of shape (32, 32), where each pixel value is an integer. You want to apply a scaling factor of 0.5 to all the pixel values using broadcasting.\n",
    "* Use broadcasting to scale the image by multiplying it with the scaling factor 0.5.\n",
    "* Verify that the pixel values of the image are halved by printing the scaled image."
   ]
  },
  {
   "cell_type": "code",
   "execution_count": 9,
   "metadata": {},
   "outputs": [
    {
     "name": "stdout",
     "output_type": "stream",
     "text": [
      "Original Pixel Value :\n",
      " [[  8  63 160 ...  29  60 178]\n",
      " [186 233  96 ... 199 123 113]\n",
      " [ 82  83 244 ...  16  69 250]\n",
      " ...\n",
      " [187 205 112 ...  58 244 189]\n",
      " [148  60 237 ...  89  88 153]\n",
      " [235 170  98 ... 247  13  53]]\n",
      "\n",
      "Scaled pixal value :\n",
      " [[  4.   31.5  80.  ...  14.5  30.   89. ]\n",
      " [ 93.  116.5  48.  ...  99.5  61.5  56.5]\n",
      " [ 41.   41.5 122.  ...   8.   34.5 125. ]\n",
      " ...\n",
      " [ 93.5 102.5  56.  ...  29.  122.   94.5]\n",
      " [ 74.   30.  118.5 ...  44.5  44.   76.5]\n",
      " [117.5  85.   49.  ... 123.5   6.5  26.5]]\n"
     ]
    }
   ],
   "source": [
    "pixel = np.random.randint(0, 256, (32, 32))\n",
    "print(\"Original Pixel Value :\\n\", pixel)\n",
    "\n",
    "\n",
    "scaled_pixel = pixel* 0.5\n",
    "print(\"\\nScaled pixal value :\\n\", scaled_pixel)"
   ]
  },
  {
   "cell_type": "markdown",
   "metadata": {},
   "source": [
    "6. Calculate the distance between an observation point and a set of code points (codes). The goal is to find the closest code to the observation by calculating the Euclidean distance between each code and the observation.\n",
    "\n",
    "    Given two arrays :\n",
    "codes = np.array([\n",
    "    [1.0, 2.0, 3.0],\n",
    "    [4.0, 5.0, 6.0],\n",
    "    [7.0, 8.0, 9.0],\n",
    "    [1.0, 1.0, 1.0],\n",
    "    [2.0, 3.0, 4.0]\n",
    "])\n",
    "observation = np.array([3.0, 3.0, 3.0])\n",
    "\n",
    "\n",
    "* Use broadcasting to calculate the squared Euclidean distance between the observation and each code.\n",
    "* Find and print the index of the closest code to the observation.\n",
    "* Print the distance between the observation and the closest code.\n",
    "\n",
    "HINT : use np.argmin() to find the index of the closest code"
   ]
  },
  {
   "cell_type": "code",
   "execution_count": 16,
   "metadata": {},
   "outputs": [
    {
     "name": "stdout",
     "output_type": "stream",
     "text": [
      "Index of the closest code : 4\n",
      "Distance to the closest code = 1.4142135623730951\n"
     ]
    }
   ],
   "source": [
    "observation = np.array([3.0, 3.0, 3.0])\n",
    "codes = np.array([\n",
    "    [1.0, 2.0, 3.0], \n",
    "    [4.0, 5.0, 6.0,], \n",
    "    [7.0, 8.0, 9.0], \n",
    "    [1.0, 1.0, 1.0], \n",
    "    [2.0, 3.0, 4.0]]\n",
    ")\n",
    "\n",
    "dist = np.sum((codes - observation)**2, axis=1)\n",
    "closest_index = np.argmin(dist)\n",
    "print(\"Index of the closest code :\", closest_index)\n",
    "\n",
    "closest_dist = np.sqrt(dist[closest_index])\n",
    "print(\"Distance to the closest code =\", closest_dist)\n"
   ]
  },
  {
   "cell_type": "markdown",
   "metadata": {},
   "source": [
    "# Concatenation"
   ]
  },
  {
   "cell_type": "code",
   "execution_count": 32,
   "metadata": {},
   "outputs": [],
   "source": [
    "ar1 = np.array([1, 4, 5, 7, 2])\n",
    "ar2 = np.array([3, 9, 1, 8, 10])\n",
    "ar3 = np.array([4, 7, 2, 10, 2])"
   ]
  },
  {
   "cell_type": "markdown",
   "metadata": {},
   "source": [
    "1. Write a program to vertically stack arrays using `np.vstack` and print the result: (Use any three 1D arrays)"
   ]
  },
  {
   "cell_type": "code",
   "execution_count": 33,
   "metadata": {},
   "outputs": [
    {
     "name": "stdout",
     "output_type": "stream",
     "text": [
      "Vertical stack : [[ 1  4  5  7  2]\n",
      " [ 3  9  1  8 10]\n",
      " [ 4  7  2 10  2]]\n"
     ]
    }
   ],
   "source": [
    "vertical_stack = np.stack([ar1, ar2, ar3])\n",
    "print(\"Vertical stack :\", vertical_stack)"
   ]
  },
  {
   "cell_type": "markdown",
   "metadata": {},
   "source": [
    "2. Write a program to horizontally stack arrays using `np.hstack`. Print the result: (Use any three 1D arrays) "
   ]
  },
  {
   "cell_type": "code",
   "execution_count": 23,
   "metadata": {},
   "outputs": [
    {
     "name": "stdout",
     "output_type": "stream",
     "text": [
      "Horizontal Stack:  [ 1  4  5  7  2  3  9  1  8 10  4  7  2 10  2]\n"
     ]
    }
   ],
   "source": [
    "hori_stack = np.hstack([ar1, ar2, ar3])\n",
    "print(\"Horizontal Stack: \", hori_stack)"
   ]
  },
  {
   "cell_type": "markdown",
   "metadata": {},
   "source": [
    "3. Given two 2D arrays of the same row size, horizontally stack them using `np.hstack` and print the result:</br>\n",
    "`m = np.array([[2, 4], [3, 6]])`</br>\n",
    "`n = np.array([[4, 8], [5, 10]])`"
   ]
  },
  {
   "cell_type": "code",
   "execution_count": 27,
   "metadata": {},
   "outputs": [
    {
     "name": "stdout",
     "output_type": "stream",
     "text": [
      "Horizonal Stacked Array :\n",
      " [[ 2  4  4  8]\n",
      " [ 3  6  5 10]]\n"
     ]
    }
   ],
   "source": [
    "m = np.array([[2, 4], [3, 6]])\n",
    "n = np.array([[4, 8], [5, 10]])\n",
    "\n",
    "stacked_array = np.hstack([m, n])\n",
    "print(\"Horizonal Stacked Array :\\n\", stacked_array)"
   ]
  },
  {
   "cell_type": "markdown",
   "metadata": {},
   "source": [
    "4. Using `np.vstack`, stack the following arrays vertically and print the results:<br/>\n",
    "`a = np.array([11, 12, 13])`<br/>\n",
    "`b = np.array([[14, 15, 16], [17, 18, 19]])`"
   ]
  },
  {
   "cell_type": "code",
   "execution_count": 29,
   "metadata": {},
   "outputs": [
    {
     "name": "stdout",
     "output_type": "stream",
     "text": [
      "Vertically Stacked Array :\n",
      " [[11 12 13]\n",
      " [14 15 16]\n",
      " [17 18 19]]\n"
     ]
    }
   ],
   "source": [
    "a = np.array([11, 12, 13])\n",
    "b = np.array([[14, 15, 16], [17, 18, 19]])\n",
    "\n",
    "stacked_array = np.vstack([a, b])\n",
    "print(\"Vertically Stacked Array :\\n\", stacked_array)"
   ]
  },
  {
   "cell_type": "markdown",
   "metadata": {},
   "source": [
    "5. Concatenate the following 2D arrays along different axes using `np.concatenate`. Demonstrate how to concatenate them along axis 0 and axis 1.<br/>\n",
    "`x = np.array([[1, 2], [3, 4]])`<br/>\n",
    "`y = np.array([[5, 6], [7, 8]])`<br/>\n",
    "`z = np.array([[9, 10], [11, 12]])`"
   ]
  },
  {
   "cell_type": "code",
   "execution_count": 35,
   "metadata": {},
   "outputs": [
    {
     "name": "stdout",
     "output_type": "stream",
     "text": [
      "Concatenated along axis 0:\n",
      " [[ 1  2]\n",
      " [ 3  4]\n",
      " [ 5  6]\n",
      " [ 7  8]\n",
      " [ 9 10]\n",
      " [11 12]]\n",
      "\n",
      "Concatenated along axis 1:\n",
      " [[ 1  2  5  6  9 10]\n",
      " [ 3  4  7  8 11 12]]\n"
     ]
    }
   ],
   "source": [
    "x = np.array([[1, 2], [3, 4]])\n",
    "y = np.array([[5, 6], [7, 8]])\n",
    "z = np.array([[9, 10], [11, 12]])\n",
    "\n",
    "concatenate_0 = np.concatenate([x, y, z], axis=0)\n",
    "print(\"Concatenated along axis 0:\\n\", concatenate_0)\n",
    "\n",
    "concatenate_1 = np.concatenate([x, y, z], axis=1)\n",
    "print(\"\\nConcatenated along axis 1:\\n\", concatenate_1)"
   ]
  },
  {
   "cell_type": "markdown",
   "metadata": {},
   "source": [
    "# Boolean Masking"
   ]
  },
  {
   "cell_type": "markdown",
   "metadata": {},
   "source": [
    "1. Use Boolean masking to filter elements from a 1D array:\n",
    "Write a program to create a 1D array and use Boolean masking to filter out all elements greater than 5."
   ]
  },
  {
   "cell_type": "code",
   "execution_count": 39,
   "metadata": {},
   "outputs": [
    {
     "name": "stdout",
     "output_type": "stream",
     "text": [
      "Array : [ 7 10  9  6  9  1  5  8  4 12]\n",
      "Elements greater than 5 : [ 7 10  9  6  9  8 12]\n"
     ]
    }
   ],
   "source": [
    "ar = np.random.randint(1, 15, 10)\n",
    "print(\"Array :\", ar)\n",
    "\n",
    "mask = ar > 5 \n",
    "gre_than_5 = ar[mask]\n",
    "print(\"Elements greater than 5 :\", gre_than_5)"
   ]
  },
  {
   "cell_type": "markdown",
   "metadata": {},
   "source": [
    "2. Apply a Boolean mask to a 2D array:\n",
    "Given the 2D array below, create a Boolean mask to select all elements greater than 10 and print the masked elements.<br/>\n",
    "`arr = np.array([[5, 12, 18], [7, 1, 3], [11, 6, 14]])`"
   ]
  },
  {
   "cell_type": "code",
   "execution_count": 41,
   "metadata": {},
   "outputs": [
    {
     "name": "stdout",
     "output_type": "stream",
     "text": [
      "Elements greater than 10 : [12 18 11 14]\n"
     ]
    }
   ],
   "source": [
    "arr = np.array([[5, 12, 18], [7, 1, 3], [11, 6, 14]])\n",
    "\n",
    "mask = arr > 10\n",
    "gre_than_10 = arr[mask]\n",
    "print(\"Elements greater than 10 :\", gre_than_10)"
   ]
  },
  {
   "cell_type": "markdown",
   "metadata": {},
   "source": [
    "3. Create a Boolean mask using a condition on an array:\n",
    "Create a 1D array of integers from 0 to 10. Use a Boolean mask to filter out all even numbers and print the result.<br/>\n",
    "Example:\n",
    "`arr = np.arange(11)`"
   ]
  },
  {
   "cell_type": "code",
   "execution_count": 48,
   "metadata": {},
   "outputs": [
    {
     "name": "stdout",
     "output_type": "stream",
     "text": [
      "Even Numbers : [ 0  2  4  6  8 10]\n"
     ]
    }
   ],
   "source": [
    "ar = np.arange(11)\n",
    "\n",
    "mask = ar & 1 == 0\n",
    "even_el = ar[mask]\n",
    "print(\"Even Numbers :\", even_el)"
   ]
  },
  {
   "cell_type": "markdown",
   "metadata": {},
   "source": [
    "4. Combine Boolean masks using logical operations:\n",
    "Given the array below, create and combine two Boolean masks:<br/>\n",
    "One mask selects elements greater than 5.\n",
    "The other mask selects elements divisible by 3.\n",
    "Combine the masks using logical AND and print the result.\n",
    "Example:\n",
    "`arr = np.array([1, 3, 6, 9, 12, 15])`"
   ]
  },
  {
   "cell_type": "code",
   "execution_count": 54,
   "metadata": {},
   "outputs": [
    {
     "data": {
      "text/plain": [
       "array([ 6,  9, 12, 15])"
      ]
     },
     "execution_count": 54,
     "metadata": {},
     "output_type": "execute_result"
    }
   ],
   "source": [
    "ar = np.array([1, 3, 6, 9, 12, 15])\n",
    "\n",
    "gre_than_5 = ar > 5\n",
    "div_by_3 = ar % 3 == 0\n",
    "\n",
    "and_mask = gre_than_5 & div_by_3\n",
    "result = ar[and_mask]\n",
    "result\n"
   ]
  },
  {
   "cell_type": "markdown",
   "metadata": {},
   "source": [
    "5. Mask elements in a 2D array and replace them:\n",
    "Write a program to replace all elements less than 5 in the 2D array below with 0 using Boolean masking."
   ]
  },
  {
   "cell_type": "code",
   "execution_count": 56,
   "metadata": {},
   "outputs": [
    {
     "name": "stdout",
     "output_type": "stream",
     "text": [
      "Original array :\n",
      " [[2 1 9]\n",
      " [5 2 8]\n",
      " [9 8 6]]\n",
      "Masked array :\n",
      " [[0 0 9]\n",
      " [5 0 8]\n",
      " [9 8 6]]\n"
     ]
    }
   ],
   "source": [
    "ar = np.random.randint(1, 10, (3, 3))\n",
    "print(\"Original array :\\n\", ar)\n",
    "\n",
    "mask= ar < 5\n",
    "ar[mask] = 0\n",
    "print(\"Masked array :\\n\", ar)"
   ]
  },
  {
   "cell_type": "markdown",
   "metadata": {},
   "source": [
    "6.  Count elements satisfying a condition using Boolean masks:\n",
    "Write a program to count how many elements in the array below are greater than 5."
   ]
  },
  {
   "cell_type": "code",
   "execution_count": 60,
   "metadata": {},
   "outputs": [
    {
     "name": "stdout",
     "output_type": "stream",
     "text": [
      "Array : [ 6  4  2 12 13  6 10  7 13 10]\n",
      "Number of values greater than 5 = 8\n"
     ]
    }
   ],
   "source": [
    "ar = np.random.randint(1, 15, 10)\n",
    "print(\"Array :\", ar)\n",
    "\n",
    "gre_than_5 = ar > 5\n",
    "cnt_gre_5 = np.sum(gre_than_5)\n",
    "print(\"Number of values greater than 5 =\", cnt_gre_5)"
   ]
  }
 ],
 "metadata": {
  "colab": {
   "provenance": [
    {
     "file_id": "169vg_FV35sJ8irVXU82RrTwlR762Ph2g",
     "timestamp": 1736305960397
    }
   ]
  },
  "kernelspec": {
   "display_name": "Python 3",
   "language": "python",
   "name": "python3"
  },
  "language_info": {
   "codemirror_mode": {
    "name": "ipython",
    "version": 3
   },
   "file_extension": ".py",
   "mimetype": "text/x-python",
   "name": "python",
   "nbconvert_exporter": "python",
   "pygments_lexer": "ipython3",
   "version": "3.12.8"
  }
 },
 "nbformat": 4,
 "nbformat_minor": 4
}
